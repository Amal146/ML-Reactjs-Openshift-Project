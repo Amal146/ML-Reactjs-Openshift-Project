{
 "cells": [
  {
   "cell_type": "code",
   "execution_count": 1,
   "id": "fd997ce7",
   "metadata": {
    "_cell_guid": "b1076dfc-b9ad-4769-8c92-a6c4dae69d19",
    "_uuid": "8f2839f25d086af736a60e9eeb907d3b93b6e0e5",
    "execution": {
     "iopub.execute_input": "2024-04-12T15:03:24.573538Z",
     "iopub.status.busy": "2024-04-12T15:03:24.573198Z",
     "iopub.status.idle": "2024-04-12T15:03:38.183702Z",
     "shell.execute_reply": "2024-04-12T15:03:38.182704Z"
    },
    "papermill": {
     "duration": 13.617848,
     "end_time": "2024-04-12T15:03:38.186272",
     "exception": false,
     "start_time": "2024-04-12T15:03:24.568424",
     "status": "completed"
    },
    "tags": []
   },
   "outputs": [
    {
     "name": "stderr",
     "output_type": "stream",
     "text": [
      "2024-04-12 15:03:28.344226: E external/local_xla/xla/stream_executor/cuda/cuda_dnn.cc:9261] Unable to register cuDNN factory: Attempting to register factory for plugin cuDNN when one has already been registered\n",
      "2024-04-12 15:03:28.344331: E external/local_xla/xla/stream_executor/cuda/cuda_fft.cc:607] Unable to register cuFFT factory: Attempting to register factory for plugin cuFFT when one has already been registered\n",
      "2024-04-12 15:03:28.452646: E external/local_xla/xla/stream_executor/cuda/cuda_blas.cc:1515] Unable to register cuBLAS factory: Attempting to register factory for plugin cuBLAS when one has already been registered\n"
     ]
    }
   ],
   "source": [
    "import numpy as np\n",
    "import pandas as pd\n",
    "import seaborn as sns\n",
    "import matplotlib.pyplot as plt\n",
    "\n",
    "from sklearn.metrics import classification_report, confusion_matrix\n",
    "\n",
    "import tensorflow as tf\n",
    "import keras\n",
    "\n",
    "from keras.src.legacy.preprocessing.image import ImageDataGenerator\n",
    "from keras.src import applications\n",
    "from keras.models import Sequential, load_model\n",
    "from keras.src.layers import Conv2D, MaxPooling2D, GlobalAveragePooling2D, Flatten, Dense, Dropout\n",
    "from keras.src.legacy.preprocessing import image\n",
    "\n",
    "import cv2\n",
    "import os\n",
    "\n",
    "import warnings\n",
    "warnings.filterwarnings('ignore')"
   ]
  },
  {
   "cell_type": "code",
   "execution_count": 2,
   "id": "5e3d4b90",
   "metadata": {
    "execution": {
     "iopub.execute_input": "2024-04-12T15:03:38.195078Z",
     "iopub.status.busy": "2024-04-12T15:03:38.193877Z",
     "iopub.status.idle": "2024-04-12T15:03:38.199603Z",
     "shell.execute_reply": "2024-04-12T15:03:38.198726Z"
    },
    "papermill": {
     "duration": 0.011716,
     "end_time": "2024-04-12T15:03:38.201511",
     "exception": false,
     "start_time": "2024-04-12T15:03:38.189795",
     "status": "completed"
    },
    "tags": []
   },
   "outputs": [],
   "source": [
    "# Data Augmentation on train dataset\n",
    "train_datagen = ImageDataGenerator(\n",
    "    rescale=1./255,\n",
    "    shear_range=0.2,\n",
    "    zoom_range=0.2,\n",
    "    horizontal_flip=True\n",
    ")\n",
    "\n",
    "# Data Augmentation on test dataset\n",
    "test_datagen = ImageDataGenerator(\n",
    "    rescale=1./255\n",
    ")"
   ]
  },
  {
   "cell_type": "code",
   "execution_count": 3,
   "id": "1b9d1b72",
   "metadata": {
    "execution": {
     "iopub.execute_input": "2024-04-12T15:03:38.208779Z",
     "iopub.status.busy": "2024-04-12T15:03:38.208509Z",
     "iopub.status.idle": "2024-04-12T15:03:38.214215Z",
     "shell.execute_reply": "2024-04-12T15:03:38.213332Z"
    },
    "papermill": {
     "duration": 0.011534,
     "end_time": "2024-04-12T15:03:38.216110",
     "exception": false,
     "start_time": "2024-04-12T15:03:38.204576",
     "status": "completed"
    },
    "tags": []
   },
   "outputs": [
    {
     "name": "stdout",
     "output_type": "stream",
     "text": [
      "/kaggle\n"
     ]
    }
   ],
   "source": [
    "cd .."
   ]
  },
  {
   "cell_type": "code",
   "execution_count": 4,
   "id": "07bde873",
   "metadata": {
    "execution": {
     "iopub.execute_input": "2024-04-12T15:03:38.223206Z",
     "iopub.status.busy": "2024-04-12T15:03:38.222924Z",
     "iopub.status.idle": "2024-04-12T15:03:38.228313Z",
     "shell.execute_reply": "2024-04-12T15:03:38.227226Z"
    },
    "papermill": {
     "duration": 0.011182,
     "end_time": "2024-04-12T15:03:38.230353",
     "exception": false,
     "start_time": "2024-04-12T15:03:38.219171",
     "status": "completed"
    },
    "tags": []
   },
   "outputs": [
    {
     "name": "stdout",
     "output_type": "stream",
     "text": [
      "/\n"
     ]
    }
   ],
   "source": [
    "cd .."
   ]
  },
  {
   "cell_type": "code",
   "execution_count": 5,
   "id": "b559a37a",
   "metadata": {
    "execution": {
     "iopub.execute_input": "2024-04-12T15:03:38.237760Z",
     "iopub.status.busy": "2024-04-12T15:03:38.237491Z",
     "iopub.status.idle": "2024-04-12T15:03:44.562677Z",
     "shell.execute_reply": "2024-04-12T15:03:44.561883Z"
    },
    "papermill": {
     "duration": 6.331108,
     "end_time": "2024-04-12T15:03:44.564689",
     "exception": false,
     "start_time": "2024-04-12T15:03:38.233581",
     "status": "completed"
    },
    "tags": []
   },
   "outputs": [
    {
     "name": "stdout",
     "output_type": "stream",
     "text": [
      "Found 13104 images belonging to 15 classes.\n",
      "Found 300 images belonging to 15 classes.\n"
     ]
    }
   ],
   "source": [
    "train_generator = train_datagen.flow_from_directory(\n",
    "    'kaggle/input/data/train',\n",
    "    target_size=(255,255),\n",
    "    batch_size=32,\n",
    "    class_mode='categorical'\n",
    ")\n",
    "\n",
    "valid_generator = test_datagen.flow_from_directory(\n",
    "    'kaggle/input/data/valid',\n",
    "    target_size=(255,255),\n",
    "    batch_size=32,\n",
    "    class_mode='categorical'\n",
    ")"
   ]
  },
  {
   "cell_type": "code",
   "execution_count": 6,
   "id": "dcb74c88",
   "metadata": {
    "execution": {
     "iopub.execute_input": "2024-04-12T15:03:44.573194Z",
     "iopub.status.busy": "2024-04-12T15:03:44.572841Z",
     "iopub.status.idle": "2024-04-12T15:03:45.436559Z",
     "shell.execute_reply": "2024-04-12T15:03:45.435646Z"
    },
    "papermill": {
     "duration": 0.870236,
     "end_time": "2024-04-12T15:03:45.438626",
     "exception": false,
     "start_time": "2024-04-12T15:03:44.568390",
     "status": "completed"
    },
    "tags": []
   },
   "outputs": [
    {
     "data": {
      "text/html": [
       "<pre style=\"white-space:pre;overflow-x:auto;line-height:normal;font-family:Menlo,'DejaVu Sans Mono',consolas,'Courier New',monospace\"><span style=\"font-weight: bold\">Model: \"sequential\"</span>\n",
       "</pre>\n"
      ],
      "text/plain": [
       "\u001b[1mModel: \"sequential\"\u001b[0m\n"
      ]
     },
     "metadata": {},
     "output_type": "display_data"
    },
    {
     "data": {
      "text/html": [
       "<pre style=\"white-space:pre;overflow-x:auto;line-height:normal;font-family:Menlo,'DejaVu Sans Mono',consolas,'Courier New',monospace\">┏━━━━━━━━━━━━━━━━━━━━━━━━━━━━━━━━━┳━━━━━━━━━━━━━━━━━━━━━━━━┳━━━━━━━━━━━━━━━┓\n",
       "┃<span style=\"font-weight: bold\"> Layer (type)                    </span>┃<span style=\"font-weight: bold\"> Output Shape           </span>┃<span style=\"font-weight: bold\">       Param # </span>┃\n",
       "┡━━━━━━━━━━━━━━━━━━━━━━━━━━━━━━━━━╇━━━━━━━━━━━━━━━━━━━━━━━━╇━━━━━━━━━━━━━━━┩\n",
       "│ conv2d (<span style=\"color: #0087ff; text-decoration-color: #0087ff\">Conv2D</span>)                 │ (<span style=\"color: #00d7ff; text-decoration-color: #00d7ff\">None</span>, <span style=\"color: #00af00; text-decoration-color: #00af00\">253</span>, <span style=\"color: #00af00; text-decoration-color: #00af00\">253</span>, <span style=\"color: #00af00; text-decoration-color: #00af00\">32</span>)   │           <span style=\"color: #00af00; text-decoration-color: #00af00\">896</span> │\n",
       "├─────────────────────────────────┼────────────────────────┼───────────────┤\n",
       "│ max_pooling2d (<span style=\"color: #0087ff; text-decoration-color: #0087ff\">MaxPooling2D</span>)    │ (<span style=\"color: #00d7ff; text-decoration-color: #00d7ff\">None</span>, <span style=\"color: #00af00; text-decoration-color: #00af00\">126</span>, <span style=\"color: #00af00; text-decoration-color: #00af00\">126</span>, <span style=\"color: #00af00; text-decoration-color: #00af00\">32</span>)   │             <span style=\"color: #00af00; text-decoration-color: #00af00\">0</span> │\n",
       "├─────────────────────────────────┼────────────────────────┼───────────────┤\n",
       "│ conv2d_1 (<span style=\"color: #0087ff; text-decoration-color: #0087ff\">Conv2D</span>)               │ (<span style=\"color: #00d7ff; text-decoration-color: #00d7ff\">None</span>, <span style=\"color: #00af00; text-decoration-color: #00af00\">124</span>, <span style=\"color: #00af00; text-decoration-color: #00af00\">124</span>, <span style=\"color: #00af00; text-decoration-color: #00af00\">64</span>)   │        <span style=\"color: #00af00; text-decoration-color: #00af00\">18,496</span> │\n",
       "├─────────────────────────────────┼────────────────────────┼───────────────┤\n",
       "│ max_pooling2d_1 (<span style=\"color: #0087ff; text-decoration-color: #0087ff\">MaxPooling2D</span>)  │ (<span style=\"color: #00d7ff; text-decoration-color: #00d7ff\">None</span>, <span style=\"color: #00af00; text-decoration-color: #00af00\">62</span>, <span style=\"color: #00af00; text-decoration-color: #00af00\">62</span>, <span style=\"color: #00af00; text-decoration-color: #00af00\">64</span>)     │             <span style=\"color: #00af00; text-decoration-color: #00af00\">0</span> │\n",
       "├─────────────────────────────────┼────────────────────────┼───────────────┤\n",
       "│ flatten (<span style=\"color: #0087ff; text-decoration-color: #0087ff\">Flatten</span>)               │ (<span style=\"color: #00d7ff; text-decoration-color: #00d7ff\">None</span>, <span style=\"color: #00af00; text-decoration-color: #00af00\">246016</span>)         │             <span style=\"color: #00af00; text-decoration-color: #00af00\">0</span> │\n",
       "├─────────────────────────────────┼────────────────────────┼───────────────┤\n",
       "│ dense (<span style=\"color: #0087ff; text-decoration-color: #0087ff\">Dense</span>)                   │ (<span style=\"color: #00d7ff; text-decoration-color: #00d7ff\">None</span>, <span style=\"color: #00af00; text-decoration-color: #00af00\">64</span>)             │    <span style=\"color: #00af00; text-decoration-color: #00af00\">15,745,088</span> │\n",
       "├─────────────────────────────────┼────────────────────────┼───────────────┤\n",
       "│ dense_1 (<span style=\"color: #0087ff; text-decoration-color: #0087ff\">Dense</span>)                 │ (<span style=\"color: #00d7ff; text-decoration-color: #00d7ff\">None</span>, <span style=\"color: #00af00; text-decoration-color: #00af00\">15</span>)             │           <span style=\"color: #00af00; text-decoration-color: #00af00\">975</span> │\n",
       "└─────────────────────────────────┴────────────────────────┴───────────────┘\n",
       "</pre>\n"
      ],
      "text/plain": [
       "┏━━━━━━━━━━━━━━━━━━━━━━━━━━━━━━━━━┳━━━━━━━━━━━━━━━━━━━━━━━━┳━━━━━━━━━━━━━━━┓\n",
       "┃\u001b[1m \u001b[0m\u001b[1mLayer (type)                   \u001b[0m\u001b[1m \u001b[0m┃\u001b[1m \u001b[0m\u001b[1mOutput Shape          \u001b[0m\u001b[1m \u001b[0m┃\u001b[1m \u001b[0m\u001b[1m      Param #\u001b[0m\u001b[1m \u001b[0m┃\n",
       "┡━━━━━━━━━━━━━━━━━━━━━━━━━━━━━━━━━╇━━━━━━━━━━━━━━━━━━━━━━━━╇━━━━━━━━━━━━━━━┩\n",
       "│ conv2d (\u001b[38;5;33mConv2D\u001b[0m)                 │ (\u001b[38;5;45mNone\u001b[0m, \u001b[38;5;34m253\u001b[0m, \u001b[38;5;34m253\u001b[0m, \u001b[38;5;34m32\u001b[0m)   │           \u001b[38;5;34m896\u001b[0m │\n",
       "├─────────────────────────────────┼────────────────────────┼───────────────┤\n",
       "│ max_pooling2d (\u001b[38;5;33mMaxPooling2D\u001b[0m)    │ (\u001b[38;5;45mNone\u001b[0m, \u001b[38;5;34m126\u001b[0m, \u001b[38;5;34m126\u001b[0m, \u001b[38;5;34m32\u001b[0m)   │             \u001b[38;5;34m0\u001b[0m │\n",
       "├─────────────────────────────────┼────────────────────────┼───────────────┤\n",
       "│ conv2d_1 (\u001b[38;5;33mConv2D\u001b[0m)               │ (\u001b[38;5;45mNone\u001b[0m, \u001b[38;5;34m124\u001b[0m, \u001b[38;5;34m124\u001b[0m, \u001b[38;5;34m64\u001b[0m)   │        \u001b[38;5;34m18,496\u001b[0m │\n",
       "├─────────────────────────────────┼────────────────────────┼───────────────┤\n",
       "│ max_pooling2d_1 (\u001b[38;5;33mMaxPooling2D\u001b[0m)  │ (\u001b[38;5;45mNone\u001b[0m, \u001b[38;5;34m62\u001b[0m, \u001b[38;5;34m62\u001b[0m, \u001b[38;5;34m64\u001b[0m)     │             \u001b[38;5;34m0\u001b[0m │\n",
       "├─────────────────────────────────┼────────────────────────┼───────────────┤\n",
       "│ flatten (\u001b[38;5;33mFlatten\u001b[0m)               │ (\u001b[38;5;45mNone\u001b[0m, \u001b[38;5;34m246016\u001b[0m)         │             \u001b[38;5;34m0\u001b[0m │\n",
       "├─────────────────────────────────┼────────────────────────┼───────────────┤\n",
       "│ dense (\u001b[38;5;33mDense\u001b[0m)                   │ (\u001b[38;5;45mNone\u001b[0m, \u001b[38;5;34m64\u001b[0m)             │    \u001b[38;5;34m15,745,088\u001b[0m │\n",
       "├─────────────────────────────────┼────────────────────────┼───────────────┤\n",
       "│ dense_1 (\u001b[38;5;33mDense\u001b[0m)                 │ (\u001b[38;5;45mNone\u001b[0m, \u001b[38;5;34m15\u001b[0m)             │           \u001b[38;5;34m975\u001b[0m │\n",
       "└─────────────────────────────────┴────────────────────────┴───────────────┘\n"
      ]
     },
     "metadata": {},
     "output_type": "display_data"
    },
    {
     "data": {
      "text/html": [
       "<pre style=\"white-space:pre;overflow-x:auto;line-height:normal;font-family:Menlo,'DejaVu Sans Mono',consolas,'Courier New',monospace\"><span style=\"font-weight: bold\"> Total params: </span><span style=\"color: #00af00; text-decoration-color: #00af00\">15,765,455</span> (60.14 MB)\n",
       "</pre>\n"
      ],
      "text/plain": [
       "\u001b[1m Total params: \u001b[0m\u001b[38;5;34m15,765,455\u001b[0m (60.14 MB)\n"
      ]
     },
     "metadata": {},
     "output_type": "display_data"
    },
    {
     "data": {
      "text/html": [
       "<pre style=\"white-space:pre;overflow-x:auto;line-height:normal;font-family:Menlo,'DejaVu Sans Mono',consolas,'Courier New',monospace\"><span style=\"font-weight: bold\"> Trainable params: </span><span style=\"color: #00af00; text-decoration-color: #00af00\">15,765,455</span> (60.14 MB)\n",
       "</pre>\n"
      ],
      "text/plain": [
       "\u001b[1m Trainable params: \u001b[0m\u001b[38;5;34m15,765,455\u001b[0m (60.14 MB)\n"
      ]
     },
     "metadata": {},
     "output_type": "display_data"
    },
    {
     "data": {
      "text/html": [
       "<pre style=\"white-space:pre;overflow-x:auto;line-height:normal;font-family:Menlo,'DejaVu Sans Mono',consolas,'Courier New',monospace\"><span style=\"font-weight: bold\"> Non-trainable params: </span><span style=\"color: #00af00; text-decoration-color: #00af00\">0</span> (0.00 B)\n",
       "</pre>\n"
      ],
      "text/plain": [
       "\u001b[1m Non-trainable params: \u001b[0m\u001b[38;5;34m0\u001b[0m (0.00 B)\n"
      ]
     },
     "metadata": {},
     "output_type": "display_data"
    }
   ],
   "source": [
    "model = Sequential()\n",
    "model.add(Conv2D(32,(3,3),input_shape=(255,255,3),activation='relu'))\n",
    "model.add(MaxPooling2D(pool_size=(2,2)))\n",
    "model.add(Conv2D(64,(3,3),activation='relu'))\n",
    "model.add(MaxPooling2D(pool_size=(2,2)))\n",
    "model.add(Flatten())\n",
    "model.add(Dense(64,activation='relu'))\n",
    "model.add(Dense(15,activation='softmax'))\n",
    "\n",
    "model.compile(optimizer='adam',loss='categorical_crossentropy',metrics=['accuracy'])\n",
    "model.summary()"
   ]
  },
  {
   "cell_type": "code",
   "execution_count": 7,
   "id": "4ebba4ae",
   "metadata": {
    "execution": {
     "iopub.execute_input": "2024-04-12T15:03:45.448800Z",
     "iopub.status.busy": "2024-04-12T15:03:45.448524Z",
     "iopub.status.idle": "2024-04-13T00:50:03.607092Z",
     "shell.execute_reply": "2024-04-13T00:50:03.606161Z"
    },
    "papermill": {
     "duration": 35178.165966,
     "end_time": "2024-04-13T00:50:03.609093",
     "exception": false,
     "start_time": "2024-04-12T15:03:45.443127",
     "status": "completed"
    },
    "tags": []
   },
   "outputs": [
    {
     "name": "stdout",
     "output_type": "stream",
     "text": [
      "Epoch 1/100\n",
      "\u001b[1m  2/410\u001b[0m \u001b[37m━━━━━━━━━━━━━━━━━━━━\u001b[0m \u001b[1m20s\u001b[0m 51ms/step - accuracy: 0.1016 - loss: 8.8683   "
     ]
    },
    {
     "name": "stderr",
     "output_type": "stream",
     "text": [
      "WARNING: All log messages before absl::InitializeLog() is called are written to STDERR\n",
      "I0000 00:00:1712934244.998406      88 device_compiler.h:186] Compiled cluster using XLA!  This line is logged at most once for the lifetime of the process.\n",
      "W0000 00:00:1712934245.015730      88 graph_launch.cc:671] Fallback to op-by-op mode because memset node breaks graph update\n"
     ]
    },
    {
     "name": "stdout",
     "output_type": "stream",
     "text": [
      "\u001b[1m409/410\u001b[0m \u001b[32m━━━━━━━━━━━━━━━━━━━\u001b[0m\u001b[37m━\u001b[0m \u001b[1m1s\u001b[0m 1s/step - accuracy: 0.2225 - loss: 3.1455"
     ]
    },
    {
     "name": "stderr",
     "output_type": "stream",
     "text": [
      "W0000 00:00:1712934712.208931      87 graph_launch.cc:671] Fallback to op-by-op mode because memset node breaks graph update\n"
     ]
    },
    {
     "name": "stdout",
     "output_type": "stream",
     "text": [
      "\u001b[1m410/410\u001b[0m \u001b[32m━━━━━━━━━━━━━━━━━━━━\u001b[0m\u001b[37m\u001b[0m \u001b[1m491s\u001b[0m 1s/step - accuracy: 0.2230 - loss: 3.1415 - val_accuracy: 0.2733 - val_loss: 2.5615\n",
      "Epoch 2/100\n",
      "\u001b[1m410/410\u001b[0m \u001b[32m━━━━━━━━━━━━━━━━━━━━\u001b[0m\u001b[37m\u001b[0m \u001b[1m354s\u001b[0m 847ms/step - accuracy: 0.4730 - loss: 1.7098 - val_accuracy: 0.3800 - val_loss: 2.3139\n",
      "Epoch 3/100\n",
      "\u001b[1m410/410\u001b[0m \u001b[32m━━━━━━━━━━━━━━━━━━━━\u001b[0m\u001b[37m\u001b[0m \u001b[1m353s\u001b[0m 848ms/step - accuracy: 0.5313 - loss: 1.4971 - val_accuracy: 0.3267 - val_loss: 2.1742\n",
      "Epoch 4/100\n",
      "\u001b[1m410/410\u001b[0m \u001b[32m━━━━━━━━━━━━━━━━━━━━\u001b[0m\u001b[37m\u001b[0m \u001b[1m354s\u001b[0m 848ms/step - accuracy: 0.5724 - loss: 1.3478 - val_accuracy: 0.4633 - val_loss: 1.9714\n",
      "Epoch 5/100\n",
      "\u001b[1m410/410\u001b[0m \u001b[32m━━━━━━━━━━━━━━━━━━━━\u001b[0m\u001b[37m\u001b[0m \u001b[1m355s\u001b[0m 853ms/step - accuracy: 0.6134 - loss: 1.2023 - val_accuracy: 0.4600 - val_loss: 2.0571\n",
      "Epoch 6/100\n",
      "\u001b[1m410/410\u001b[0m \u001b[32m━━━━━━━━━━━━━━━━━━━━\u001b[0m\u001b[37m\u001b[0m \u001b[1m354s\u001b[0m 848ms/step - accuracy: 0.6394 - loss: 1.1269 - val_accuracy: 0.4600 - val_loss: 2.0850\n",
      "Epoch 7/100\n",
      "\u001b[1m410/410\u001b[0m \u001b[32m━━━━━━━━━━━━━━━━━━━━\u001b[0m\u001b[37m\u001b[0m \u001b[1m351s\u001b[0m 841ms/step - accuracy: 0.6694 - loss: 1.0335 - val_accuracy: 0.5567 - val_loss: 1.6033\n",
      "Epoch 8/100\n",
      "\u001b[1m410/410\u001b[0m \u001b[32m━━━━━━━━━━━━━━━━━━━━\u001b[0m\u001b[37m\u001b[0m \u001b[1m358s\u001b[0m 858ms/step - accuracy: 0.6920 - loss: 0.9597 - val_accuracy: 0.5567 - val_loss: 1.8191\n",
      "Epoch 9/100\n",
      "\u001b[1m410/410\u001b[0m \u001b[32m━━━━━━━━━━━━━━━━━━━━\u001b[0m\u001b[37m\u001b[0m \u001b[1m363s\u001b[0m 871ms/step - accuracy: 0.7059 - loss: 0.9214 - val_accuracy: 0.5433 - val_loss: 1.8101\n",
      "Epoch 10/100\n",
      "\u001b[1m410/410\u001b[0m \u001b[32m━━━━━━━━━━━━━━━━━━━━\u001b[0m\u001b[37m\u001b[0m \u001b[1m353s\u001b[0m 846ms/step - accuracy: 0.7270 - loss: 0.8540 - val_accuracy: 0.6067 - val_loss: 1.7423\n",
      "Epoch 11/100\n",
      "\u001b[1m410/410\u001b[0m \u001b[32m━━━━━━━━━━━━━━━━━━━━\u001b[0m\u001b[37m\u001b[0m \u001b[1m369s\u001b[0m 885ms/step - accuracy: 0.7470 - loss: 0.7904 - val_accuracy: 0.6300 - val_loss: 1.6809\n",
      "Epoch 12/100\n",
      "\u001b[1m410/410\u001b[0m \u001b[32m━━━━━━━━━━━━━━━━━━━━\u001b[0m\u001b[37m\u001b[0m \u001b[1m382s\u001b[0m 917ms/step - accuracy: 0.7568 - loss: 0.7616 - val_accuracy: 0.6333 - val_loss: 1.7161\n",
      "Epoch 13/100\n",
      "\u001b[1m410/410\u001b[0m \u001b[32m━━━━━━━━━━━━━━━━━━━━\u001b[0m\u001b[37m\u001b[0m \u001b[1m359s\u001b[0m 859ms/step - accuracy: 0.7677 - loss: 0.7132 - val_accuracy: 0.6667 - val_loss: 1.5151\n",
      "Epoch 14/100\n",
      "\u001b[1m410/410\u001b[0m \u001b[32m━━━━━━━━━━━━━━━━━━━━\u001b[0m\u001b[37m\u001b[0m \u001b[1m356s\u001b[0m 851ms/step - accuracy: 0.7878 - loss: 0.6506 - val_accuracy: 0.6633 - val_loss: 1.6185\n",
      "Epoch 15/100\n",
      "\u001b[1m410/410\u001b[0m \u001b[32m━━━━━━━━━━━━━━━━━━━━\u001b[0m\u001b[37m\u001b[0m \u001b[1m355s\u001b[0m 849ms/step - accuracy: 0.7975 - loss: 0.6192 - val_accuracy: 0.7133 - val_loss: 1.5683\n",
      "Epoch 16/100\n",
      "\u001b[1m410/410\u001b[0m \u001b[32m━━━━━━━━━━━━━━━━━━━━\u001b[0m\u001b[37m\u001b[0m \u001b[1m349s\u001b[0m 837ms/step - accuracy: 0.8101 - loss: 0.5960 - val_accuracy: 0.6667 - val_loss: 1.6229\n",
      "Epoch 17/100\n",
      "\u001b[1m410/410\u001b[0m \u001b[32m━━━━━━━━━━━━━━━━━━━━\u001b[0m\u001b[37m\u001b[0m \u001b[1m350s\u001b[0m 843ms/step - accuracy: 0.8114 - loss: 0.5710 - val_accuracy: 0.7667 - val_loss: 1.7344\n",
      "Epoch 18/100\n",
      "\u001b[1m410/410\u001b[0m \u001b[32m━━━━━━━━━━━━━━━━━━━━\u001b[0m\u001b[37m\u001b[0m \u001b[1m352s\u001b[0m 845ms/step - accuracy: 0.8191 - loss: 0.5498 - val_accuracy: 0.7600 - val_loss: 1.3818\n",
      "Epoch 19/100\n",
      "\u001b[1m410/410\u001b[0m \u001b[32m━━━━━━━━━━━━━━━━━━━━\u001b[0m\u001b[37m\u001b[0m \u001b[1m354s\u001b[0m 849ms/step - accuracy: 0.8262 - loss: 0.5259 - val_accuracy: 0.7567 - val_loss: 1.5620\n",
      "Epoch 20/100\n",
      "\u001b[1m410/410\u001b[0m \u001b[32m━━━━━━━━━━━━━━━━━━━━\u001b[0m\u001b[37m\u001b[0m \u001b[1m350s\u001b[0m 840ms/step - accuracy: 0.8317 - loss: 0.4968 - val_accuracy: 0.8033 - val_loss: 1.6276\n",
      "Epoch 21/100\n",
      "\u001b[1m410/410\u001b[0m \u001b[32m━━━━━━━━━━━━━━━━━━━━\u001b[0m\u001b[37m\u001b[0m \u001b[1m351s\u001b[0m 844ms/step - accuracy: 0.8493 - loss: 0.4545 - val_accuracy: 0.7767 - val_loss: 1.9833\n",
      "Epoch 22/100\n",
      "\u001b[1m410/410\u001b[0m \u001b[32m━━━━━━━━━━━━━━━━━━━━\u001b[0m\u001b[37m\u001b[0m \u001b[1m350s\u001b[0m 841ms/step - accuracy: 0.8450 - loss: 0.4704 - val_accuracy: 0.7300 - val_loss: 1.6994\n",
      "Epoch 23/100\n",
      "\u001b[1m410/410\u001b[0m \u001b[32m━━━━━━━━━━━━━━━━━━━━\u001b[0m\u001b[37m\u001b[0m \u001b[1m348s\u001b[0m 834ms/step - accuracy: 0.8631 - loss: 0.4138 - val_accuracy: 0.8167 - val_loss: 1.5919\n",
      "Epoch 24/100\n",
      "\u001b[1m410/410\u001b[0m \u001b[32m━━━━━━━━━━━━━━━━━━━━\u001b[0m\u001b[37m\u001b[0m \u001b[1m348s\u001b[0m 835ms/step - accuracy: 0.8542 - loss: 0.4286 - val_accuracy: 0.8200 - val_loss: 1.5646\n",
      "Epoch 25/100\n",
      "\u001b[1m410/410\u001b[0m \u001b[32m━━━━━━━━━━━━━━━━━━━━\u001b[0m\u001b[37m\u001b[0m \u001b[1m350s\u001b[0m 841ms/step - accuracy: 0.8700 - loss: 0.3913 - val_accuracy: 0.7833 - val_loss: 1.4122\n",
      "Epoch 26/100\n",
      "\u001b[1m410/410\u001b[0m \u001b[32m━━━━━━━━━━━━━━━━━━━━\u001b[0m\u001b[37m\u001b[0m \u001b[1m352s\u001b[0m 842ms/step - accuracy: 0.8659 - loss: 0.3839 - val_accuracy: 0.7833 - val_loss: 1.3546\n",
      "Epoch 27/100\n",
      "\u001b[1m410/410\u001b[0m \u001b[32m━━━━━━━━━━━━━━━━━━━━\u001b[0m\u001b[37m\u001b[0m \u001b[1m346s\u001b[0m 829ms/step - accuracy: 0.8779 - loss: 0.3636 - val_accuracy: 0.7967 - val_loss: 1.7358\n",
      "Epoch 28/100\n",
      "\u001b[1m410/410\u001b[0m \u001b[32m━━━━━━━━━━━━━━━━━━━━\u001b[0m\u001b[37m\u001b[0m \u001b[1m350s\u001b[0m 837ms/step - accuracy: 0.8724 - loss: 0.3822 - val_accuracy: 0.8000 - val_loss: 1.6014\n",
      "Epoch 29/100\n",
      "\u001b[1m410/410\u001b[0m \u001b[32m━━━━━━━━━━━━━━━━━━━━\u001b[0m\u001b[37m\u001b[0m \u001b[1m349s\u001b[0m 837ms/step - accuracy: 0.8929 - loss: 0.3248 - val_accuracy: 0.8467 - val_loss: 1.3032\n",
      "Epoch 30/100\n",
      "\u001b[1m410/410\u001b[0m \u001b[32m━━━━━━━━━━━━━━━━━━━━\u001b[0m\u001b[37m\u001b[0m \u001b[1m348s\u001b[0m 834ms/step - accuracy: 0.8839 - loss: 0.3420 - val_accuracy: 0.8533 - val_loss: 1.3154\n",
      "Epoch 31/100\n",
      "\u001b[1m410/410\u001b[0m \u001b[32m━━━━━━━━━━━━━━━━━━━━\u001b[0m\u001b[37m\u001b[0m \u001b[1m350s\u001b[0m 839ms/step - accuracy: 0.8870 - loss: 0.3274 - val_accuracy: 0.8467 - val_loss: 1.2456\n",
      "Epoch 32/100\n",
      "\u001b[1m410/410\u001b[0m \u001b[32m━━━━━━━━━━━━━━━━━━━━\u001b[0m\u001b[37m\u001b[0m \u001b[1m364s\u001b[0m 873ms/step - accuracy: 0.8906 - loss: 0.3294 - val_accuracy: 0.8733 - val_loss: 1.6897\n",
      "Epoch 33/100\n",
      "\u001b[1m410/410\u001b[0m \u001b[32m━━━━━━━━━━━━━━━━━━━━\u001b[0m\u001b[37m\u001b[0m \u001b[1m351s\u001b[0m 839ms/step - accuracy: 0.8942 - loss: 0.3192 - val_accuracy: 0.8600 - val_loss: 1.3529\n",
      "Epoch 34/100\n",
      "\u001b[1m410/410\u001b[0m \u001b[32m━━━━━━━━━━━━━━━━━━━━\u001b[0m\u001b[37m\u001b[0m \u001b[1m346s\u001b[0m 828ms/step - accuracy: 0.8995 - loss: 0.3024 - val_accuracy: 0.8600 - val_loss: 1.4179\n",
      "Epoch 35/100\n",
      "\u001b[1m410/410\u001b[0m \u001b[32m━━━━━━━━━━━━━━━━━━━━\u001b[0m\u001b[37m\u001b[0m \u001b[1m345s\u001b[0m 829ms/step - accuracy: 0.9053 - loss: 0.2810 - val_accuracy: 0.8600 - val_loss: 1.4678\n",
      "Epoch 36/100\n",
      "\u001b[1m410/410\u001b[0m \u001b[32m━━━━━━━━━━━━━━━━━━━━\u001b[0m\u001b[37m\u001b[0m \u001b[1m344s\u001b[0m 825ms/step - accuracy: 0.9033 - loss: 0.2867 - val_accuracy: 0.8700 - val_loss: 1.2960\n",
      "Epoch 37/100\n",
      "\u001b[1m410/410\u001b[0m \u001b[32m━━━━━━━━━━━━━━━━━━━━\u001b[0m\u001b[37m\u001b[0m \u001b[1m345s\u001b[0m 826ms/step - accuracy: 0.9066 - loss: 0.2625 - val_accuracy: 0.8767 - val_loss: 1.5527\n",
      "Epoch 38/100\n",
      "\u001b[1m410/410\u001b[0m \u001b[32m━━━━━━━━━━━━━━━━━━━━\u001b[0m\u001b[37m\u001b[0m \u001b[1m344s\u001b[0m 822ms/step - accuracy: 0.9074 - loss: 0.2852 - val_accuracy: 0.8667 - val_loss: 1.8193\n",
      "Epoch 39/100\n",
      "\u001b[1m410/410\u001b[0m \u001b[32m━━━━━━━━━━━━━━━━━━━━\u001b[0m\u001b[37m\u001b[0m \u001b[1m347s\u001b[0m 830ms/step - accuracy: 0.9151 - loss: 0.2588 - val_accuracy: 0.8333 - val_loss: 1.7983\n",
      "Epoch 40/100\n",
      "\u001b[1m410/410\u001b[0m \u001b[32m━━━━━━━━━━━━━━━━━━━━\u001b[0m\u001b[37m\u001b[0m \u001b[1m384s\u001b[0m 837ms/step - accuracy: 0.9045 - loss: 0.2888 - val_accuracy: 0.8533 - val_loss: 1.3802\n",
      "Epoch 41/100\n",
      "\u001b[1m410/410\u001b[0m \u001b[32m━━━━━━━━━━━━━━━━━━━━\u001b[0m\u001b[37m\u001b[0m \u001b[1m348s\u001b[0m 836ms/step - accuracy: 0.9158 - loss: 0.2517 - val_accuracy: 0.8600 - val_loss: 1.9398\n",
      "Epoch 42/100\n",
      "\u001b[1m410/410\u001b[0m \u001b[32m━━━━━━━━━━━━━━━━━━━━\u001b[0m\u001b[37m\u001b[0m \u001b[1m351s\u001b[0m 845ms/step - accuracy: 0.9162 - loss: 0.2496 - val_accuracy: 0.8400 - val_loss: 1.3889\n",
      "Epoch 43/100\n",
      "\u001b[1m410/410\u001b[0m \u001b[32m━━━━━━━━━━━━━━━━━━━━\u001b[0m\u001b[37m\u001b[0m \u001b[1m354s\u001b[0m 848ms/step - accuracy: 0.9087 - loss: 0.2678 - val_accuracy: 0.8600 - val_loss: 1.9891\n",
      "Epoch 44/100\n",
      "\u001b[1m410/410\u001b[0m \u001b[32m━━━━━━━━━━━━━━━━━━━━\u001b[0m\u001b[37m\u001b[0m \u001b[1m358s\u001b[0m 860ms/step - accuracy: 0.9212 - loss: 0.2339 - val_accuracy: 0.8467 - val_loss: 1.4420\n",
      "Epoch 45/100\n",
      "\u001b[1m410/410\u001b[0m \u001b[32m━━━━━━━━━━━━━━━━━━━━\u001b[0m\u001b[37m\u001b[0m \u001b[1m357s\u001b[0m 859ms/step - accuracy: 0.9190 - loss: 0.2360 - val_accuracy: 0.8500 - val_loss: 1.7001\n",
      "Epoch 46/100\n",
      "\u001b[1m410/410\u001b[0m \u001b[32m━━━━━━━━━━━━━━━━━━━━\u001b[0m\u001b[37m\u001b[0m \u001b[1m353s\u001b[0m 844ms/step - accuracy: 0.9154 - loss: 0.2451 - val_accuracy: 0.8200 - val_loss: 2.1673\n",
      "Epoch 47/100\n",
      "\u001b[1m410/410\u001b[0m \u001b[32m━━━━━━━━━━━━━━━━━━━━\u001b[0m\u001b[37m\u001b[0m \u001b[1m356s\u001b[0m 852ms/step - accuracy: 0.9189 - loss: 0.2361 - val_accuracy: 0.8700 - val_loss: 1.6444\n",
      "Epoch 48/100\n",
      "\u001b[1m410/410\u001b[0m \u001b[32m━━━━━━━━━━━━━━━━━━━━\u001b[0m\u001b[37m\u001b[0m \u001b[1m354s\u001b[0m 850ms/step - accuracy: 0.9206 - loss: 0.2541 - val_accuracy: 0.8633 - val_loss: 1.7198\n",
      "Epoch 49/100\n",
      "\u001b[1m410/410\u001b[0m \u001b[32m━━━━━━━━━━━━━━━━━━━━\u001b[0m\u001b[37m\u001b[0m \u001b[1m354s\u001b[0m 849ms/step - accuracy: 0.9253 - loss: 0.2174 - val_accuracy: 0.8667 - val_loss: 2.0086\n",
      "Epoch 50/100\n",
      "\u001b[1m410/410\u001b[0m \u001b[32m━━━━━━━━━━━━━━━━━━━━\u001b[0m\u001b[37m\u001b[0m \u001b[1m347s\u001b[0m 832ms/step - accuracy: 0.9272 - loss: 0.2140 - val_accuracy: 0.8467 - val_loss: 2.0027\n",
      "Epoch 51/100\n",
      "\u001b[1m410/410\u001b[0m \u001b[32m━━━━━━━━━━━━━━━━━━━━\u001b[0m\u001b[37m\u001b[0m \u001b[1m349s\u001b[0m 836ms/step - accuracy: 0.9237 - loss: 0.2185 - val_accuracy: 0.8733 - val_loss: 1.9267\n",
      "Epoch 52/100\n",
      "\u001b[1m410/410\u001b[0m \u001b[32m━━━━━━━━━━━━━━━━━━━━\u001b[0m\u001b[37m\u001b[0m \u001b[1m350s\u001b[0m 840ms/step - accuracy: 0.9318 - loss: 0.1935 - val_accuracy: 0.8767 - val_loss: 1.6109\n",
      "Epoch 53/100\n",
      "\u001b[1m410/410\u001b[0m \u001b[32m━━━━━━━━━━━━━━━━━━━━\u001b[0m\u001b[37m\u001b[0m \u001b[1m347s\u001b[0m 831ms/step - accuracy: 0.9261 - loss: 0.2128 - val_accuracy: 0.8533 - val_loss: 1.9762\n",
      "Epoch 54/100\n",
      "\u001b[1m410/410\u001b[0m \u001b[32m━━━━━━━━━━━━━━━━━━━━\u001b[0m\u001b[37m\u001b[0m \u001b[1m346s\u001b[0m 831ms/step - accuracy: 0.9250 - loss: 0.2090 - val_accuracy: 0.8700 - val_loss: 1.9235\n",
      "Epoch 55/100\n",
      "\u001b[1m410/410\u001b[0m \u001b[32m━━━━━━━━━━━━━━━━━━━━\u001b[0m\u001b[37m\u001b[0m \u001b[1m355s\u001b[0m 853ms/step - accuracy: 0.9312 - loss: 0.2011 - val_accuracy: 0.8667 - val_loss: 1.9276\n",
      "Epoch 56/100\n",
      "\u001b[1m410/410\u001b[0m \u001b[32m━━━━━━━━━━━━━━━━━━━━\u001b[0m\u001b[37m\u001b[0m \u001b[1m359s\u001b[0m 859ms/step - accuracy: 0.9312 - loss: 0.1885 - val_accuracy: 0.8667 - val_loss: 1.7912\n",
      "Epoch 57/100\n",
      "\u001b[1m410/410\u001b[0m \u001b[32m━━━━━━━━━━━━━━━━━━━━\u001b[0m\u001b[37m\u001b[0m \u001b[1m349s\u001b[0m 836ms/step - accuracy: 0.9308 - loss: 0.2033 - val_accuracy: 0.8800 - val_loss: 2.0787\n",
      "Epoch 58/100\n",
      "\u001b[1m410/410\u001b[0m \u001b[32m━━━━━━━━━━━━━━━━━━━━\u001b[0m\u001b[37m\u001b[0m \u001b[1m348s\u001b[0m 836ms/step - accuracy: 0.9295 - loss: 0.2081 - val_accuracy: 0.8767 - val_loss: 1.9520\n",
      "Epoch 59/100\n",
      "\u001b[1m410/410\u001b[0m \u001b[32m━━━━━━━━━━━━━━━━━━━━\u001b[0m\u001b[37m\u001b[0m \u001b[1m350s\u001b[0m 840ms/step - accuracy: 0.9383 - loss: 0.1845 - val_accuracy: 0.8633 - val_loss: 1.5818\n",
      "Epoch 60/100\n",
      "\u001b[1m410/410\u001b[0m \u001b[32m━━━━━━━━━━━━━━━━━━━━\u001b[0m\u001b[37m\u001b[0m \u001b[1m349s\u001b[0m 837ms/step - accuracy: 0.9315 - loss: 0.1901 - val_accuracy: 0.8467 - val_loss: 2.0677\n",
      "Epoch 61/100\n",
      "\u001b[1m410/410\u001b[0m \u001b[32m━━━━━━━━━━━━━━━━━━━━\u001b[0m\u001b[37m\u001b[0m \u001b[1m345s\u001b[0m 824ms/step - accuracy: 0.9322 - loss: 0.1965 - val_accuracy: 0.8600 - val_loss: 1.8560\n",
      "Epoch 62/100\n",
      "\u001b[1m410/410\u001b[0m \u001b[32m━━━━━━━━━━━━━━━━━━━━\u001b[0m\u001b[37m\u001b[0m \u001b[1m347s\u001b[0m 833ms/step - accuracy: 0.9279 - loss: 0.1966 - val_accuracy: 0.8600 - val_loss: 2.2391\n",
      "Epoch 63/100\n",
      "\u001b[1m410/410\u001b[0m \u001b[32m━━━━━━━━━━━━━━━━━━━━\u001b[0m\u001b[37m\u001b[0m \u001b[1m357s\u001b[0m 855ms/step - accuracy: 0.9330 - loss: 0.1980 - val_accuracy: 0.8700 - val_loss: 2.1503\n",
      "Epoch 64/100\n",
      "\u001b[1m410/410\u001b[0m \u001b[32m━━━━━━━━━━━━━━━━━━━━\u001b[0m\u001b[37m\u001b[0m \u001b[1m353s\u001b[0m 847ms/step - accuracy: 0.9364 - loss: 0.1822 - val_accuracy: 0.8800 - val_loss: 1.9726\n",
      "Epoch 65/100\n",
      "\u001b[1m410/410\u001b[0m \u001b[32m━━━━━━━━━━━━━━━━━━━━\u001b[0m\u001b[37m\u001b[0m \u001b[1m349s\u001b[0m 837ms/step - accuracy: 0.9355 - loss: 0.1943 - val_accuracy: 0.9033 - val_loss: 2.0421\n",
      "Epoch 66/100\n",
      "\u001b[1m410/410\u001b[0m \u001b[32m━━━━━━━━━━━━━━━━━━━━\u001b[0m\u001b[37m\u001b[0m \u001b[1m351s\u001b[0m 841ms/step - accuracy: 0.9372 - loss: 0.1837 - val_accuracy: 0.9000 - val_loss: 2.2356\n",
      "Epoch 67/100\n",
      "\u001b[1m410/410\u001b[0m \u001b[32m━━━━━━━━━━━━━━━━━━━━\u001b[0m\u001b[37m\u001b[0m \u001b[1m350s\u001b[0m 839ms/step - accuracy: 0.9368 - loss: 0.1778 - val_accuracy: 0.8567 - val_loss: 1.9214\n",
      "Epoch 68/100\n",
      "\u001b[1m410/410\u001b[0m \u001b[32m━━━━━━━━━━━━━━━━━━━━\u001b[0m\u001b[37m\u001b[0m \u001b[1m347s\u001b[0m 830ms/step - accuracy: 0.9475 - loss: 0.1611 - val_accuracy: 0.8867 - val_loss: 1.8263\n",
      "Epoch 69/100\n",
      "\u001b[1m410/410\u001b[0m \u001b[32m━━━━━━━━━━━━━━━━━━━━\u001b[0m\u001b[37m\u001b[0m \u001b[1m345s\u001b[0m 827ms/step - accuracy: 0.9442 - loss: 0.1545 - val_accuracy: 0.8567 - val_loss: 1.3529\n",
      "Epoch 70/100\n",
      "\u001b[1m410/410\u001b[0m \u001b[32m━━━━━━━━━━━━━━━━━━━━\u001b[0m\u001b[37m\u001b[0m \u001b[1m345s\u001b[0m 828ms/step - accuracy: 0.9394 - loss: 0.1733 - val_accuracy: 0.8500 - val_loss: 2.1432\n",
      "Epoch 71/100\n",
      "\u001b[1m410/410\u001b[0m \u001b[32m━━━━━━━━━━━━━━━━━━━━\u001b[0m\u001b[37m\u001b[0m \u001b[1m343s\u001b[0m 823ms/step - accuracy: 0.9372 - loss: 0.1807 - val_accuracy: 0.9000 - val_loss: 2.3035\n",
      "Epoch 72/100\n",
      "\u001b[1m410/410\u001b[0m \u001b[32m━━━━━━━━━━━━━━━━━━━━\u001b[0m\u001b[37m\u001b[0m \u001b[1m349s\u001b[0m 840ms/step - accuracy: 0.9458 - loss: 0.1548 - val_accuracy: 0.8800 - val_loss: 2.4169\n",
      "Epoch 73/100\n",
      "\u001b[1m410/410\u001b[0m \u001b[32m━━━━━━━━━━━━━━━━━━━━\u001b[0m\u001b[37m\u001b[0m \u001b[1m359s\u001b[0m 859ms/step - accuracy: 0.9376 - loss: 0.1758 - val_accuracy: 0.9067 - val_loss: 2.1134\n",
      "Epoch 74/100\n",
      "\u001b[1m410/410\u001b[0m \u001b[32m━━━━━━━━━━━━━━━━━━━━\u001b[0m\u001b[37m\u001b[0m \u001b[1m353s\u001b[0m 848ms/step - accuracy: 0.9418 - loss: 0.1683 - val_accuracy: 0.8933 - val_loss: 2.4649\n",
      "Epoch 75/100\n",
      "\u001b[1m410/410\u001b[0m \u001b[32m━━━━━━━━━━━━━━━━━━━━\u001b[0m\u001b[37m\u001b[0m \u001b[1m348s\u001b[0m 836ms/step - accuracy: 0.9424 - loss: 0.1639 - val_accuracy: 0.8700 - val_loss: 1.7233\n",
      "Epoch 76/100\n",
      "\u001b[1m410/410\u001b[0m \u001b[32m━━━━━━━━━━━━━━━━━━━━\u001b[0m\u001b[37m\u001b[0m \u001b[1m342s\u001b[0m 820ms/step - accuracy: 0.9412 - loss: 0.1782 - val_accuracy: 0.8733 - val_loss: 1.8129\n",
      "Epoch 77/100\n",
      "\u001b[1m410/410\u001b[0m \u001b[32m━━━━━━━━━━━━━━━━━━━━\u001b[0m\u001b[37m\u001b[0m \u001b[1m340s\u001b[0m 814ms/step - accuracy: 0.9443 - loss: 0.1489 - val_accuracy: 0.8833 - val_loss: 1.7496\n",
      "Epoch 78/100\n",
      "\u001b[1m410/410\u001b[0m \u001b[32m━━━━━━━━━━━━━━━━━━━━\u001b[0m\u001b[37m\u001b[0m \u001b[1m342s\u001b[0m 820ms/step - accuracy: 0.9465 - loss: 0.1535 - val_accuracy: 0.8767 - val_loss: 2.4224\n",
      "Epoch 79/100\n",
      "\u001b[1m410/410\u001b[0m \u001b[32m━━━━━━━━━━━━━━━━━━━━\u001b[0m\u001b[37m\u001b[0m \u001b[1m343s\u001b[0m 823ms/step - accuracy: 0.9486 - loss: 0.1524 - val_accuracy: 0.8733 - val_loss: 1.9326\n",
      "Epoch 80/100\n",
      "\u001b[1m410/410\u001b[0m \u001b[32m━━━━━━━━━━━━━━━━━━━━\u001b[0m\u001b[37m\u001b[0m \u001b[1m340s\u001b[0m 816ms/step - accuracy: 0.9445 - loss: 0.1646 - val_accuracy: 0.8900 - val_loss: 2.6978\n",
      "Epoch 81/100\n",
      "\u001b[1m410/410\u001b[0m \u001b[32m━━━━━━━━━━━━━━━━━━━━\u001b[0m\u001b[37m\u001b[0m \u001b[1m348s\u001b[0m 834ms/step - accuracy: 0.9533 - loss: 0.1339 - val_accuracy: 0.8767 - val_loss: 2.0869\n",
      "Epoch 82/100\n",
      "\u001b[1m410/410\u001b[0m \u001b[32m━━━━━━━━━━━━━━━━━━━━\u001b[0m\u001b[37m\u001b[0m \u001b[1m362s\u001b[0m 868ms/step - accuracy: 0.9442 - loss: 0.1497 - val_accuracy: 0.8600 - val_loss: 2.1416\n",
      "Epoch 83/100\n",
      "\u001b[1m410/410\u001b[0m \u001b[32m━━━━━━━━━━━━━━━━━━━━\u001b[0m\u001b[37m\u001b[0m \u001b[1m341s\u001b[0m 819ms/step - accuracy: 0.9443 - loss: 0.1624 - val_accuracy: 0.8967 - val_loss: 2.3212\n",
      "Epoch 84/100\n",
      "\u001b[1m410/410\u001b[0m \u001b[32m━━━━━━━━━━━━━━━━━━━━\u001b[0m\u001b[37m\u001b[0m \u001b[1m342s\u001b[0m 821ms/step - accuracy: 0.9397 - loss: 0.1609 - val_accuracy: 0.9000 - val_loss: 1.5043\n",
      "Epoch 85/100\n",
      "\u001b[1m410/410\u001b[0m \u001b[32m━━━━━━━━━━━━━━━━━━━━\u001b[0m\u001b[37m\u001b[0m \u001b[1m340s\u001b[0m 815ms/step - accuracy: 0.9404 - loss: 0.1648 - val_accuracy: 0.9033 - val_loss: 2.3095\n",
      "Epoch 86/100\n",
      "\u001b[1m410/410\u001b[0m \u001b[32m━━━━━━━━━━━━━━━━━━━━\u001b[0m\u001b[37m\u001b[0m \u001b[1m343s\u001b[0m 823ms/step - accuracy: 0.9428 - loss: 0.1609 - val_accuracy: 0.9033 - val_loss: 2.0266\n",
      "Epoch 87/100\n",
      "\u001b[1m410/410\u001b[0m \u001b[32m━━━━━━━━━━━━━━━━━━━━\u001b[0m\u001b[37m\u001b[0m \u001b[1m379s\u001b[0m 814ms/step - accuracy: 0.9441 - loss: 0.1590 - val_accuracy: 0.8933 - val_loss: 2.7143\n",
      "Epoch 88/100\n",
      "\u001b[1m410/410\u001b[0m \u001b[32m━━━━━━━━━━━━━━━━━━━━\u001b[0m\u001b[37m\u001b[0m \u001b[1m343s\u001b[0m 819ms/step - accuracy: 0.9492 - loss: 0.1502 - val_accuracy: 0.9000 - val_loss: 1.7425\n",
      "Epoch 89/100\n",
      "\u001b[1m410/410\u001b[0m \u001b[32m━━━━━━━━━━━━━━━━━━━━\u001b[0m\u001b[37m\u001b[0m \u001b[1m341s\u001b[0m 818ms/step - accuracy: 0.9453 - loss: 0.1561 - val_accuracy: 0.8867 - val_loss: 1.9411\n",
      "Epoch 90/100\n",
      "\u001b[1m410/410\u001b[0m \u001b[32m━━━━━━━━━━━━━━━━━━━━\u001b[0m\u001b[37m\u001b[0m \u001b[1m344s\u001b[0m 823ms/step - accuracy: 0.9485 - loss: 0.1385 - val_accuracy: 0.8600 - val_loss: 2.2209\n",
      "Epoch 91/100\n",
      "\u001b[1m410/410\u001b[0m \u001b[32m━━━━━━━━━━━━━━━━━━━━\u001b[0m\u001b[37m\u001b[0m \u001b[1m346s\u001b[0m 832ms/step - accuracy: 0.9482 - loss: 0.1480 - val_accuracy: 0.8933 - val_loss: 2.2708\n",
      "Epoch 92/100\n",
      "\u001b[1m410/410\u001b[0m \u001b[32m━━━━━━━━━━━━━━━━━━━━\u001b[0m\u001b[37m\u001b[0m \u001b[1m344s\u001b[0m 824ms/step - accuracy: 0.9446 - loss: 0.1536 - val_accuracy: 0.8933 - val_loss: 1.8616\n",
      "Epoch 93/100\n",
      "\u001b[1m410/410\u001b[0m \u001b[32m━━━━━━━━━━━━━━━━━━━━\u001b[0m\u001b[37m\u001b[0m \u001b[1m341s\u001b[0m 818ms/step - accuracy: 0.9493 - loss: 0.1364 - val_accuracy: 0.9000 - val_loss: 1.6895\n",
      "Epoch 94/100\n",
      "\u001b[1m410/410\u001b[0m \u001b[32m━━━━━━━━━━━━━━━━━━━━\u001b[0m\u001b[37m\u001b[0m \u001b[1m343s\u001b[0m 823ms/step - accuracy: 0.9480 - loss: 0.1419 - val_accuracy: 0.8933 - val_loss: 3.1613\n",
      "Epoch 95/100\n",
      "\u001b[1m410/410\u001b[0m \u001b[32m━━━━━━━━━━━━━━━━━━━━\u001b[0m\u001b[37m\u001b[0m \u001b[1m345s\u001b[0m 827ms/step - accuracy: 0.9552 - loss: 0.1268 - val_accuracy: 0.8933 - val_loss: 2.2092\n",
      "Epoch 96/100\n",
      "\u001b[1m410/410\u001b[0m \u001b[32m━━━━━━━━━━━━━━━━━━━━\u001b[0m\u001b[37m\u001b[0m \u001b[1m345s\u001b[0m 829ms/step - accuracy: 0.9534 - loss: 0.1291 - val_accuracy: 0.9067 - val_loss: 1.8919\n",
      "Epoch 97/100\n",
      "\u001b[1m410/410\u001b[0m \u001b[32m━━━━━━━━━━━━━━━━━━━━\u001b[0m\u001b[37m\u001b[0m \u001b[1m342s\u001b[0m 820ms/step - accuracy: 0.9543 - loss: 0.1303 - val_accuracy: 0.8800 - val_loss: 2.5722\n",
      "Epoch 98/100\n",
      "\u001b[1m410/410\u001b[0m \u001b[32m━━━━━━━━━━━━━━━━━━━━\u001b[0m\u001b[37m\u001b[0m \u001b[1m341s\u001b[0m 818ms/step - accuracy: 0.9488 - loss: 0.1505 - val_accuracy: 0.9133 - val_loss: 1.6384\n",
      "Epoch 99/100\n",
      "\u001b[1m410/410\u001b[0m \u001b[32m━━━━━━━━━━━━━━━━━━━━\u001b[0m\u001b[37m\u001b[0m \u001b[1m342s\u001b[0m 821ms/step - accuracy: 0.9478 - loss: 0.1450 - val_accuracy: 0.8867 - val_loss: 1.8999\n",
      "Epoch 100/100\n",
      "\u001b[1m410/410\u001b[0m \u001b[32m━━━━━━━━━━━━━━━━━━━━\u001b[0m\u001b[37m\u001b[0m \u001b[1m344s\u001b[0m 826ms/step - accuracy: 0.9466 - loss: 0.1508 - val_accuracy: 0.9100 - val_loss: 2.1731\n"
     ]
    }
   ],
   "source": [
    "history = model.fit(\n",
    "        train_generator,\n",
    "        batch_size=32,\n",
    "        epochs=100,\n",
    "        validation_data=valid_generator,\n",
    "        validation_batch_size=32,\n",
    ")"
   ]
  },
  {
   "cell_type": "code",
   "execution_count": 8,
   "id": "26cbcc18",
   "metadata": {
    "execution": {
     "iopub.execute_input": "2024-04-13T00:50:10.464217Z",
     "iopub.status.busy": "2024-04-13T00:50:10.462882Z",
     "iopub.status.idle": "2024-04-13T00:50:10.866073Z",
     "shell.execute_reply": "2024-04-13T00:50:10.865204Z"
    },
    "papermill": {
     "duration": 3.774872,
     "end_time": "2024-04-13T00:50:10.868293",
     "exception": false,
     "start_time": "2024-04-13T00:50:07.093421",
     "status": "completed"
    },
    "tags": []
   },
   "outputs": [],
   "source": [
    "model.save('WheatDiseaseDetection.h5')"
   ]
  }
 ],
 "metadata": {
  "kaggle": {
   "accelerator": "nvidiaTeslaT4",
   "dataSources": [
    {
     "datasetId": 4611404,
     "sourceId": 8094053,
     "sourceType": "datasetVersion"
    }
   ],
   "dockerImageVersionId": 30683,
   "isGpuEnabled": true,
   "isInternetEnabled": true,
   "language": "python",
   "sourceType": "notebook"
  },
  "kernelspec": {
   "display_name": "Python 3",
   "language": "python",
   "name": "python3"
  },
  "language_info": {
   "codemirror_mode": {
    "name": "ipython",
    "version": 3
   },
   "file_extension": ".py",
   "mimetype": "text/x-python",
   "name": "python",
   "nbconvert_exporter": "python",
   "pygments_lexer": "ipython3",
   "version": "3.10.13"
  },
  "papermill": {
   "default_parameters": {},
   "duration": 35215.674652,
   "end_time": "2024-04-13T00:50:17.582092",
   "environment_variables": {},
   "exception": null,
   "input_path": "__notebook__.ipynb",
   "output_path": "__notebook__.ipynb",
   "parameters": {},
   "start_time": "2024-04-12T15:03:21.907440",
   "version": "2.5.0"
  }
 },
 "nbformat": 4,
 "nbformat_minor": 5
}
